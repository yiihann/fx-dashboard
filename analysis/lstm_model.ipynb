{
 "cells": [
  {
   "cell_type": "code",
   "execution_count": 1,
   "id": "ed3c0fcb",
   "metadata": {},
   "outputs": [],
   "source": [
    "import pandas as pd\n",
    "import numpy as np\n",
    "from keras.models import Sequential\n",
    "from keras.layers import LSTM, Dense, Dropout\n",
    "from sklearn.preprocessing import MinMaxScaler\n",
    "from sklearn.metrics import mean_squared_error, mean_absolute_error, r2_score\n",
    "from sklearn.model_selection import train_test_split\n",
    "import joblib\n",
    "import os\n",
    "import matplotlib.pyplot as plt\n",
    "from keras.utils import plot_model"
   ]
  },
  {
   "cell_type": "code",
   "execution_count": 2,
   "id": "ef05ccc8",
   "metadata": {},
   "outputs": [],
   "source": [
    "# settings\n",
    "CURRENCY = \"EUR\"  # change this to GBP or JPY to run separately\n",
    "CUTOFF_DATE = \"2022-12-21\"\n",
    "PRED_END_DATE = \"2025-02-01\"\n",
    "TIME_STEP = 10\n",
    "EPOCHS = 50"
   ]
  },
  {
   "cell_type": "code",
   "execution_count": 3,
   "id": "543dcca9",
   "metadata": {},
   "outputs": [
    {
     "data": {
      "application/vnd.microsoft.datawrangler.viewer.v0+json": {
       "columns": [
        {
         "name": "Date",
         "rawType": "datetime64[ns]",
         "type": "datetime"
        },
        {
         "name": "EUR",
         "rawType": "float64",
         "type": "float"
        }
       ],
       "conversionMethod": "pd.DataFrame",
       "ref": "7a681904-12ed-4da3-a2ac-0980ed936b54",
       "rows": [
        [
         "2014-01-02 00:00:00",
         "0.0067299977702176"
        ],
        [
         "2014-01-03 00:00:00",
         "0.0054274087929623"
        ],
        [
         "2014-01-04 00:00:00",
         "4.756219947542055e-05"
        ],
        [
         "2014-01-05 00:00:00",
         "-0.0004077494191697"
        ],
        [
         "2014-01-06 00:00:00",
         "-0.002681693005687"
        ],
        [
         "2014-01-07 00:00:00",
         "0.0011702113777853"
        ],
        [
         "2014-01-08 00:00:00",
         "0.0028414903623689"
        ],
        [
         "2014-01-09 00:00:00",
         "-0.0020480517717424"
        ],
        [
         "2014-01-10 00:00:00",
         "-0.004723627969879"
        ],
        [
         "2014-01-11 00:00:00",
         "-2.050310519599196e-05"
        ],
        [
         "2014-01-12 00:00:00",
         "-7.244767196686795e-05"
        ],
        [
         "2014-01-13 00:00:00",
         "9.705134775722296e-05"
        ],
        [
         "2014-01-14 00:00:00",
         "-0.0004033032642252"
        ],
        [
         "2014-01-15 00:00:00",
         "0.0050915405517948"
        ],
        [
         "2014-01-16 00:00:00",
         "-0.0008833291601357"
        ],
        [
         "2014-01-17 00:00:00",
         "0.0056187475120937"
        ],
        [
         "2014-01-18 00:00:00",
         "9.748568186768262e-05"
        ],
        [
         "2014-01-19 00:00:00",
         "0.0004575141360981"
        ],
        [
         "2014-01-20 00:00:00",
         "-0.0018394484133846"
        ],
        [
         "2014-01-21 00:00:00",
         "-0.0001396544841866"
        ],
        [
         "2014-01-22 00:00:00",
         "0.0009365320674193"
        ],
        [
         "2014-01-23 00:00:00",
         "-0.0106420058997294"
        ],
        [
         "2014-01-24 00:00:00",
         "0.0010441449805724"
        ],
        [
         "2014-01-25 00:00:00",
         "6.838771182416808e-06"
        ],
        [
         "2014-01-26 00:00:00",
         "-0.0001449919641429"
        ],
        [
         "2014-01-27 00:00:00",
         "0.0004212392153933"
        ],
        [
         "2014-01-28 00:00:00",
         "0.0014347106737121"
        ],
        [
         "2014-01-29 00:00:00",
         "-0.0006583449555466"
        ],
        [
         "2014-01-30 00:00:00",
         "0.0079936737885911"
        ],
        [
         "2014-01-31 00:00:00",
         "0.0048204789550032"
        ],
        [
         "2014-02-01 00:00:00",
         "4.855973185180495e-05"
        ],
        [
         "2014-02-02 00:00:00",
         "0.0001766835689553"
        ],
        [
         "2014-02-03 00:00:00",
         "-0.0030308701694723"
        ],
        [
         "2014-02-04 00:00:00",
         "0.0009545533320902"
        ],
        [
         "2014-02-05 00:00:00",
         "-0.0014538257442662"
        ],
        [
         "2014-02-06 00:00:00",
         "-0.004300801889859"
        ],
        [
         "2014-02-07 00:00:00",
         "-0.0031760817437762"
        ],
        [
         "2014-02-08 00:00:00",
         "3.954177896244915e-05"
        ],
        [
         "2014-02-09 00:00:00",
         "0.0011283268438812"
        ],
        [
         "2014-02-10 00:00:00",
         "-0.0018048430296902"
        ],
        [
         "2014-02-11 00:00:00",
         "0.0004119655589583"
        ],
        [
         "2014-02-12 00:00:00",
         "0.003197187893325"
        ],
        [
         "2014-02-13 00:00:00",
         "-0.0061679556957092"
        ],
        [
         "2014-02-14 00:00:00",
         "-0.0009976974410507"
        ],
        [
         "2014-02-15 00:00:00",
         "-5.340282091401462e-05"
        ],
        [
         "2014-02-16 00:00:00",
         "-0.0006684611260714"
        ],
        [
         "2014-02-17 00:00:00",
         "-0.0002370822720845"
        ],
        [
         "2014-02-18 00:00:00",
         "-0.0039082987697969"
        ],
        [
         "2014-02-19 00:00:00",
         "0.0018228437828326"
        ],
        [
         "2014-02-20 00:00:00",
         "0.0011543977172789"
        ]
       ],
       "shape": {
        "columns": 1,
        "rows": 3831
       }
      },
      "text/html": [
       "<div>\n",
       "<style scoped>\n",
       "    .dataframe tbody tr th:only-of-type {\n",
       "        vertical-align: middle;\n",
       "    }\n",
       "\n",
       "    .dataframe tbody tr th {\n",
       "        vertical-align: top;\n",
       "    }\n",
       "\n",
       "    .dataframe thead th {\n",
       "        text-align: right;\n",
       "    }\n",
       "</style>\n",
       "<table border=\"1\" class=\"dataframe\">\n",
       "  <thead>\n",
       "    <tr style=\"text-align: right;\">\n",
       "      <th></th>\n",
       "      <th>EUR</th>\n",
       "    </tr>\n",
       "    <tr>\n",
       "      <th>Date</th>\n",
       "      <th></th>\n",
       "    </tr>\n",
       "  </thead>\n",
       "  <tbody>\n",
       "    <tr>\n",
       "      <th>2014-01-02</th>\n",
       "      <td>0.006730</td>\n",
       "    </tr>\n",
       "    <tr>\n",
       "      <th>2014-01-03</th>\n",
       "      <td>0.005427</td>\n",
       "    </tr>\n",
       "    <tr>\n",
       "      <th>2014-01-04</th>\n",
       "      <td>0.000048</td>\n",
       "    </tr>\n",
       "    <tr>\n",
       "      <th>2014-01-05</th>\n",
       "      <td>-0.000408</td>\n",
       "    </tr>\n",
       "    <tr>\n",
       "      <th>2014-01-06</th>\n",
       "      <td>-0.002682</td>\n",
       "    </tr>\n",
       "    <tr>\n",
       "      <th>...</th>\n",
       "      <td>...</td>\n",
       "    </tr>\n",
       "    <tr>\n",
       "      <th>2025-01-30</th>\n",
       "      <td>-0.002783</td>\n",
       "    </tr>\n",
       "    <tr>\n",
       "      <th>2025-01-31</th>\n",
       "      <td>-0.003079</td>\n",
       "    </tr>\n",
       "    <tr>\n",
       "      <th>2025-02-03</th>\n",
       "      <td>-0.001544</td>\n",
       "    </tr>\n",
       "    <tr>\n",
       "      <th>2025-02-04</th>\n",
       "      <td>0.003383</td>\n",
       "    </tr>\n",
       "    <tr>\n",
       "      <th>2025-02-05</th>\n",
       "      <td>0.002119</td>\n",
       "    </tr>\n",
       "  </tbody>\n",
       "</table>\n",
       "<p>3831 rows × 1 columns</p>\n",
       "</div>"
      ],
      "text/plain": [
       "                 EUR\n",
       "Date                \n",
       "2014-01-02  0.006730\n",
       "2014-01-03  0.005427\n",
       "2014-01-04  0.000048\n",
       "2014-01-05 -0.000408\n",
       "2014-01-06 -0.002682\n",
       "...              ...\n",
       "2025-01-30 -0.002783\n",
       "2025-01-31 -0.003079\n",
       "2025-02-03 -0.001544\n",
       "2025-02-04  0.003383\n",
       "2025-02-05  0.002119\n",
       "\n",
       "[3831 rows x 1 columns]"
      ]
     },
     "execution_count": 3,
     "metadata": {},
     "output_type": "execute_result"
    }
   ],
   "source": [
    "# load data\n",
    "df = pd.read_csv(\"../data/returns_2014_2025_filtered.csv\", parse_dates=[\"Date\"])\n",
    "df = df.set_index(\"Date\")\n",
    "df = df[[CURRENCY]].copy()\n",
    "df"
   ]
  },
  {
   "cell_type": "code",
   "execution_count": null,
   "id": "0176f1f2",
   "metadata": {},
   "outputs": [],
   "source": []
  }
 ],
 "metadata": {
  "kernelspec": {
   "display_name": "base",
   "language": "python",
   "name": "python3"
  },
  "language_info": {
   "codemirror_mode": {
    "name": "ipython",
    "version": 3
   },
   "file_extension": ".py",
   "mimetype": "text/x-python",
   "name": "python",
   "nbconvert_exporter": "python",
   "pygments_lexer": "ipython3",
   "version": "3.10.14"
  }
 },
 "nbformat": 4,
 "nbformat_minor": 5
}
